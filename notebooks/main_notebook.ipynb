{
 "cells": [
  {
   "cell_type": "code",
   "execution_count": 1,
   "outputs": [],
   "source": [
    "import pyodbc\n",
    "import pandas as pd\n",
    "import sqlalchemy\n",
    "import urllib\n",
    "import numpy as np\n",
    "import datetime\n",
    "from dateutil.relativedelta import relativedelta\n",
    "from save import save\n",
    "import plotly.graph_objects as go\n",
    "from plotly.subplots import make_subplots\n"
   ],
   "metadata": {
    "collapsed": false,
    "pycharm": {
     "name": "#%%\n"
    }
   }
  },
  {
   "cell_type": "code",
   "execution_count": 2,
   "outputs": [],
   "source": [
    "typecurve_df = pd.read_excel(r'C:\\Users\\bbell\\OneDrive - CrownQuest Operating\\Desktop\\mcdowell curves.xlsx', sheet_name='8 well spacing')"
   ],
   "metadata": {
    "collapsed": false,
    "pycharm": {
     "name": "#%%\n"
    }
   }
  },
  {
   "cell_type": "code",
   "execution_count": 3,
   "outputs": [],
   "source": [
    "oil_price = 50\n",
    "gas_price = 3\n",
    "opex = 7\n",
    "\n",
    "oil_tax = 0.046\n",
    "gas_tax = 0.075\n",
    "\n",
    "wi = 1\n",
    "nri = 0.75\n",
    "\n",
    "lease_bonus = 16800000\n",
    "\n",
    "sections = 26\n",
    "spacing = 8\n",
    "\n",
    "rig_pace = 20\n",
    "well_cost = 6300000\n",
    "\n",
    "initial_cash = 233200000\n",
    "initial_debt = 0\n",
    "initial_investment = 250000000"
   ],
   "metadata": {
    "collapsed": false,
    "pycharm": {
     "name": "#%%\n"
    }
   }
  },
  {
   "cell_type": "code",
   "execution_count": 4,
   "outputs": [],
   "source": [
    "rig_schedule_df = pd.read_excel(r'C:\\Users\\bbell\\OneDrive - CrownQuest Operating\\Desktop\\rig schedule.xlsx', sheet_name='scenario 1')\n"
   ],
   "metadata": {
    "collapsed": false,
    "pycharm": {
     "name": "#%%\n"
    }
   }
  },
  {
   "cell_type": "code",
   "execution_count": 5,
   "outputs": [
    {
     "data": {
      "text/plain": "     Well Count        Date\n0             1  2023-01-31\n1             1  2023-01-31\n2             1  2023-02-28\n3             1  2023-02-28\n4             1  2023-02-28\n..          ...         ...\n205           1  2028-09-30\n206           1  2028-09-30\n207           1  2024-01-31\n208           1  2025-01-31\n209           1  2023-01-31\n\n[210 rows x 2 columns]",
      "text/html": "<div>\n<style scoped>\n    .dataframe tbody tr th:only-of-type {\n        vertical-align: middle;\n    }\n\n    .dataframe tbody tr th {\n        vertical-align: top;\n    }\n\n    .dataframe thead th {\n        text-align: right;\n    }\n</style>\n<table border=\"1\" class=\"dataframe\">\n  <thead>\n    <tr style=\"text-align: right;\">\n      <th></th>\n      <th>Well Count</th>\n      <th>Date</th>\n    </tr>\n  </thead>\n  <tbody>\n    <tr>\n      <th>0</th>\n      <td>1</td>\n      <td>2023-01-31</td>\n    </tr>\n    <tr>\n      <th>1</th>\n      <td>1</td>\n      <td>2023-01-31</td>\n    </tr>\n    <tr>\n      <th>2</th>\n      <td>1</td>\n      <td>2023-02-28</td>\n    </tr>\n    <tr>\n      <th>3</th>\n      <td>1</td>\n      <td>2023-02-28</td>\n    </tr>\n    <tr>\n      <th>4</th>\n      <td>1</td>\n      <td>2023-02-28</td>\n    </tr>\n    <tr>\n      <th>...</th>\n      <td>...</td>\n      <td>...</td>\n    </tr>\n    <tr>\n      <th>205</th>\n      <td>1</td>\n      <td>2028-09-30</td>\n    </tr>\n    <tr>\n      <th>206</th>\n      <td>1</td>\n      <td>2028-09-30</td>\n    </tr>\n    <tr>\n      <th>207</th>\n      <td>1</td>\n      <td>2024-01-31</td>\n    </tr>\n    <tr>\n      <th>208</th>\n      <td>1</td>\n      <td>2025-01-31</td>\n    </tr>\n    <tr>\n      <th>209</th>\n      <td>1</td>\n      <td>2023-01-31</td>\n    </tr>\n  </tbody>\n</table>\n<p>210 rows × 2 columns</p>\n</div>"
     },
     "execution_count": 5,
     "metadata": {},
     "output_type": "execute_result"
    }
   ],
   "source": [
    "rig_df = pd.DataFrame()\n",
    "for i in rig_schedule_df.index:\n",
    "    rig_start = rig_schedule_df.iloc[i,1]\n",
    "    rig_end = rig_schedule_df.iloc[i,2]\n",
    "\n",
    "    #create list of all dates between start and end\n",
    "    #need to do a string function generator for frequency\n",
    "    rig_dates = pd.date_range(rig_start, rig_end, freq='10.14D')\n",
    "    rig_eoms = rig_dates + pd.offsets.Day() - pd.offsets.MonthEnd(-1)\n",
    "\n",
    "    df = pd.DataFrame({\n",
    "        'Well Count': 1,\n",
    "        'Date': rig_eoms\n",
    "        })\n",
    "\n",
    "    rig_df = rig_df.append(df, ignore_index=True)\n",
    "\n",
    "rig_df['Date'] = rig_df['Date'].dt.date\n",
    "rig_df"
   ],
   "metadata": {
    "collapsed": false,
    "pycharm": {
     "name": "#%%\n"
    }
   }
  },
  {
   "cell_type": "code",
   "execution_count": 6,
   "outputs": [
    {
     "name": "stdout",
     "output_type": "stream",
     "text": [
      "210\n"
     ]
    }
   ],
   "source": [
    "wellcount_df = rig_df.groupby(['Date']).sum()\n",
    "wellcount_df = wellcount_df.reset_index()\n",
    "wellcount_df['Date'] = pd.to_datetime(wellcount_df['Date'])\n",
    "\n",
    "print(wellcount_df['Well Count'].sum())"
   ],
   "metadata": {
    "collapsed": false,
    "pycharm": {
     "name": "#%%\n"
    }
   }
  },
  {
   "cell_type": "code",
   "execution_count": 7,
   "outputs": [
    {
     "data": {
      "text/plain": "            Date           Oil           Gas\n0     2023-01-31  12961.126826  15801.505242\n1     2023-02-28  12528.182037  17334.922460\n2     2023-03-31   9552.583804  15507.716075\n3     2023-04-30   8271.578649  14912.853558\n4     2023-05-31   6950.315440  13505.067829\n...          ...           ...           ...\n91135 2058-10-31     91.082675    227.233186\n91136 2058-11-30     93.465729    233.178432\n91137 2058-12-31     89.823097    224.090788\n91138 2059-01-31     92.173195    229.953817\n91139 2059-02-28     91.523199    228.332206\n\n[91140 rows x 3 columns]",
      "text/html": "<div>\n<style scoped>\n    .dataframe tbody tr th:only-of-type {\n        vertical-align: middle;\n    }\n\n    .dataframe tbody tr th {\n        vertical-align: top;\n    }\n\n    .dataframe thead th {\n        text-align: right;\n    }\n</style>\n<table border=\"1\" class=\"dataframe\">\n  <thead>\n    <tr style=\"text-align: right;\">\n      <th></th>\n      <th>Date</th>\n      <th>Oil</th>\n      <th>Gas</th>\n    </tr>\n  </thead>\n  <tbody>\n    <tr>\n      <th>0</th>\n      <td>2023-01-31</td>\n      <td>12961.126826</td>\n      <td>15801.505242</td>\n    </tr>\n    <tr>\n      <th>1</th>\n      <td>2023-02-28</td>\n      <td>12528.182037</td>\n      <td>17334.922460</td>\n    </tr>\n    <tr>\n      <th>2</th>\n      <td>2023-03-31</td>\n      <td>9552.583804</td>\n      <td>15507.716075</td>\n    </tr>\n    <tr>\n      <th>3</th>\n      <td>2023-04-30</td>\n      <td>8271.578649</td>\n      <td>14912.853558</td>\n    </tr>\n    <tr>\n      <th>4</th>\n      <td>2023-05-31</td>\n      <td>6950.315440</td>\n      <td>13505.067829</td>\n    </tr>\n    <tr>\n      <th>...</th>\n      <td>...</td>\n      <td>...</td>\n      <td>...</td>\n    </tr>\n    <tr>\n      <th>91135</th>\n      <td>2058-10-31</td>\n      <td>91.082675</td>\n      <td>227.233186</td>\n    </tr>\n    <tr>\n      <th>91136</th>\n      <td>2058-11-30</td>\n      <td>93.465729</td>\n      <td>233.178432</td>\n    </tr>\n    <tr>\n      <th>91137</th>\n      <td>2058-12-31</td>\n      <td>89.823097</td>\n      <td>224.090788</td>\n    </tr>\n    <tr>\n      <th>91138</th>\n      <td>2059-01-31</td>\n      <td>92.173195</td>\n      <td>229.953817</td>\n    </tr>\n    <tr>\n      <th>91139</th>\n      <td>2059-02-28</td>\n      <td>91.523199</td>\n      <td>228.332206</td>\n    </tr>\n  </tbody>\n</table>\n<p>91140 rows × 3 columns</p>\n</div>"
     },
     "execution_count": 7,
     "metadata": {},
     "output_type": "execute_result"
    }
   ],
   "source": [
    "prod_df = pd.DataFrame()\n",
    "final_df = pd.DataFrame()\n",
    "for i in rig_df.index:\n",
    "    date = rig_df.iloc[i, 1]\n",
    "\n",
    "    df = pd.DataFrame({\n",
    "        'Date': pd.date_range(date, periods=len(typecurve_df.index), freq='M'),\n",
    "        'Oil': typecurve_df['oil'],\n",
    "        'Gas': typecurve_df['gas']\n",
    "        })\n",
    "    prod_df = prod_df.append(df, ignore_index=True)\n",
    "\n",
    "prod_df"
   ],
   "metadata": {
    "collapsed": false,
    "pycharm": {
     "name": "#%%\n"
    }
   }
  },
  {
   "cell_type": "code",
   "execution_count": 8,
   "outputs": [
    {
     "data": {
      "text/plain": "          Date            Oil            Gas  Well Count  Month  \\\n0   2023-01-31   38883.380477   47404.515726         3.0      1   \n1   2023-02-28   76467.926587   99409.283105         3.0      2   \n2   2023-03-31  105125.677999  145932.431329         3.0      3   \n3   2023-04-30  129940.413947  190670.992003         3.0      4   \n4   2023-05-31  150791.360268  231186.195491         3.0      5   \n..         ...            ...            ...         ...    ...   \n497 2064-06-30    1467.669415    3661.543722         0.0    498   \n498 2064-07-31    1190.778757    2970.756518         0.0    499   \n499 2064-08-31     912.731668    2277.084251         0.0    500   \n500 2064-09-30     642.612383    1603.190277         0.0    501   \n501 2064-10-31     274.569598     684.996619         0.0    502   \n\n           Net Oil        Net Gas  Net Oil Revenue  Net Gas Revenue  \\\n0     29162.535358   35553.386794     1.458127e+06    106660.160383   \n1     57350.944940   74556.962329     2.867547e+06    223670.886986   \n2     78844.258499  109449.323497     3.942213e+06    328347.970491   \n3     97455.310460  143003.244002     4.872766e+06    429009.732007   \n4    113093.520201  173389.646619     5.654676e+06    520168.939856   \n..             ...            ...              ...              ...   \n497    1100.752061    2746.157791     5.503760e+04      8238.473374   \n498     893.084067    2228.067388     4.465420e+04      6684.202165   \n499     684.548751    1707.813188     3.422744e+04      5123.439564   \n500     481.959287    1202.392707     2.409796e+04      3607.178122   \n501     205.927198     513.747465     1.029636e+04      1541.242394   \n\n     Total Revenue  ...  Operating Income  Gross CAPEX   Net CAPEX  \\\n0     1.564787e+06  ...      1.217530e+06   18900000.0  18900000.0   \n1     3.091218e+06  ...      2.407260e+06   18900000.0  18900000.0   \n2     4.270561e+06  ...      3.328713e+06   18900000.0  18900000.0   \n3     5.301775e+06  ...      4.135869e+06   18900000.0  18900000.0   \n4     6.174845e+06  ...      4.820178e+06   18900000.0  18900000.0   \n..             ...  ...               ...          ...         ...   \n497   6.327608e+04  ...      4.985278e+04          0.0         0.0   \n498   5.133841e+04  ...      4.044755e+04          0.0         0.0   \n499   3.935088e+04  ...      3.100304e+04          0.0         0.0   \n500   2.770514e+04  ...      2.182781e+04          0.0         0.0   \n501   1.183760e+04  ...      9.326389e+03          0.0         0.0   \n\n     Disc NET CAPEX  Cash on Hand  Debt  Interest Expense     Cash Flow  \\\n0      1.875048e+07  2.332000e+08   0.0                 0 -1.768247e+07   \n1      1.860214e+07  2.167073e+08   0.0                 0 -1.649274e+07   \n2      1.845498e+07  2.011360e+08   0.0                 0 -1.557129e+07   \n3      1.830898e+07  1.863718e+08   0.0                 0 -1.476413e+07   \n4      1.816414e+07  1.722920e+08   0.0                 0 -1.407982e+07   \n..              ...           ...   ...               ...           ...   \n497    0.000000e+00  1.367579e+09   0.0                 0  4.985278e+04   \n498    0.000000e+00  1.367619e+09   0.0                 0  4.044755e+04   \n499    0.000000e+00  1.367650e+09   0.0                 0  3.100304e+04   \n500    0.000000e+00  1.367672e+09   0.0                 0  2.182781e+04   \n501    0.000000e+00  1.367682e+09   0.0                 0  9.326389e+03   \n\n     Discounted Cash Flow  Net Debt/EBITAX  \n0           -1.754258e+07              0.0  \n1           -1.623282e+07              0.0  \n2           -1.520465e+07              0.0  \n3           -1.430245e+07              0.0  \n4           -1.353163e+07              0.0  \n..                    ...              ...  \n497          9.547571e+02              0.0  \n498          7.685044e+02              0.0  \n499          5.843984e+02              0.0  \n500          4.081930e+02              0.0  \n501          1.730293e+02              0.0  \n\n[502 rows x 23 columns]",
      "text/html": "<div>\n<style scoped>\n    .dataframe tbody tr th:only-of-type {\n        vertical-align: middle;\n    }\n\n    .dataframe tbody tr th {\n        vertical-align: top;\n    }\n\n    .dataframe thead th {\n        text-align: right;\n    }\n</style>\n<table border=\"1\" class=\"dataframe\">\n  <thead>\n    <tr style=\"text-align: right;\">\n      <th></th>\n      <th>Date</th>\n      <th>Oil</th>\n      <th>Gas</th>\n      <th>Well Count</th>\n      <th>Month</th>\n      <th>Net Oil</th>\n      <th>Net Gas</th>\n      <th>Net Oil Revenue</th>\n      <th>Net Gas Revenue</th>\n      <th>Total Revenue</th>\n      <th>...</th>\n      <th>Operating Income</th>\n      <th>Gross CAPEX</th>\n      <th>Net CAPEX</th>\n      <th>Disc NET CAPEX</th>\n      <th>Cash on Hand</th>\n      <th>Debt</th>\n      <th>Interest Expense</th>\n      <th>Cash Flow</th>\n      <th>Discounted Cash Flow</th>\n      <th>Net Debt/EBITAX</th>\n    </tr>\n  </thead>\n  <tbody>\n    <tr>\n      <th>0</th>\n      <td>2023-01-31</td>\n      <td>38883.380477</td>\n      <td>47404.515726</td>\n      <td>3.0</td>\n      <td>1</td>\n      <td>29162.535358</td>\n      <td>35553.386794</td>\n      <td>1.458127e+06</td>\n      <td>106660.160383</td>\n      <td>1.564787e+06</td>\n      <td>...</td>\n      <td>1.217530e+06</td>\n      <td>18900000.0</td>\n      <td>18900000.0</td>\n      <td>1.875048e+07</td>\n      <td>2.332000e+08</td>\n      <td>0.0</td>\n      <td>0</td>\n      <td>-1.768247e+07</td>\n      <td>-1.754258e+07</td>\n      <td>0.0</td>\n    </tr>\n    <tr>\n      <th>1</th>\n      <td>2023-02-28</td>\n      <td>76467.926587</td>\n      <td>99409.283105</td>\n      <td>3.0</td>\n      <td>2</td>\n      <td>57350.944940</td>\n      <td>74556.962329</td>\n      <td>2.867547e+06</td>\n      <td>223670.886986</td>\n      <td>3.091218e+06</td>\n      <td>...</td>\n      <td>2.407260e+06</td>\n      <td>18900000.0</td>\n      <td>18900000.0</td>\n      <td>1.860214e+07</td>\n      <td>2.167073e+08</td>\n      <td>0.0</td>\n      <td>0</td>\n      <td>-1.649274e+07</td>\n      <td>-1.623282e+07</td>\n      <td>0.0</td>\n    </tr>\n    <tr>\n      <th>2</th>\n      <td>2023-03-31</td>\n      <td>105125.677999</td>\n      <td>145932.431329</td>\n      <td>3.0</td>\n      <td>3</td>\n      <td>78844.258499</td>\n      <td>109449.323497</td>\n      <td>3.942213e+06</td>\n      <td>328347.970491</td>\n      <td>4.270561e+06</td>\n      <td>...</td>\n      <td>3.328713e+06</td>\n      <td>18900000.0</td>\n      <td>18900000.0</td>\n      <td>1.845498e+07</td>\n      <td>2.011360e+08</td>\n      <td>0.0</td>\n      <td>0</td>\n      <td>-1.557129e+07</td>\n      <td>-1.520465e+07</td>\n      <td>0.0</td>\n    </tr>\n    <tr>\n      <th>3</th>\n      <td>2023-04-30</td>\n      <td>129940.413947</td>\n      <td>190670.992003</td>\n      <td>3.0</td>\n      <td>4</td>\n      <td>97455.310460</td>\n      <td>143003.244002</td>\n      <td>4.872766e+06</td>\n      <td>429009.732007</td>\n      <td>5.301775e+06</td>\n      <td>...</td>\n      <td>4.135869e+06</td>\n      <td>18900000.0</td>\n      <td>18900000.0</td>\n      <td>1.830898e+07</td>\n      <td>1.863718e+08</td>\n      <td>0.0</td>\n      <td>0</td>\n      <td>-1.476413e+07</td>\n      <td>-1.430245e+07</td>\n      <td>0.0</td>\n    </tr>\n    <tr>\n      <th>4</th>\n      <td>2023-05-31</td>\n      <td>150791.360268</td>\n      <td>231186.195491</td>\n      <td>3.0</td>\n      <td>5</td>\n      <td>113093.520201</td>\n      <td>173389.646619</td>\n      <td>5.654676e+06</td>\n      <td>520168.939856</td>\n      <td>6.174845e+06</td>\n      <td>...</td>\n      <td>4.820178e+06</td>\n      <td>18900000.0</td>\n      <td>18900000.0</td>\n      <td>1.816414e+07</td>\n      <td>1.722920e+08</td>\n      <td>0.0</td>\n      <td>0</td>\n      <td>-1.407982e+07</td>\n      <td>-1.353163e+07</td>\n      <td>0.0</td>\n    </tr>\n    <tr>\n      <th>...</th>\n      <td>...</td>\n      <td>...</td>\n      <td>...</td>\n      <td>...</td>\n      <td>...</td>\n      <td>...</td>\n      <td>...</td>\n      <td>...</td>\n      <td>...</td>\n      <td>...</td>\n      <td>...</td>\n      <td>...</td>\n      <td>...</td>\n      <td>...</td>\n      <td>...</td>\n      <td>...</td>\n      <td>...</td>\n      <td>...</td>\n      <td>...</td>\n      <td>...</td>\n      <td>...</td>\n    </tr>\n    <tr>\n      <th>497</th>\n      <td>2064-06-30</td>\n      <td>1467.669415</td>\n      <td>3661.543722</td>\n      <td>0.0</td>\n      <td>498</td>\n      <td>1100.752061</td>\n      <td>2746.157791</td>\n      <td>5.503760e+04</td>\n      <td>8238.473374</td>\n      <td>6.327608e+04</td>\n      <td>...</td>\n      <td>4.985278e+04</td>\n      <td>0.0</td>\n      <td>0.0</td>\n      <td>0.000000e+00</td>\n      <td>1.367579e+09</td>\n      <td>0.0</td>\n      <td>0</td>\n      <td>4.985278e+04</td>\n      <td>9.547571e+02</td>\n      <td>0.0</td>\n    </tr>\n    <tr>\n      <th>498</th>\n      <td>2064-07-31</td>\n      <td>1190.778757</td>\n      <td>2970.756518</td>\n      <td>0.0</td>\n      <td>499</td>\n      <td>893.084067</td>\n      <td>2228.067388</td>\n      <td>4.465420e+04</td>\n      <td>6684.202165</td>\n      <td>5.133841e+04</td>\n      <td>...</td>\n      <td>4.044755e+04</td>\n      <td>0.0</td>\n      <td>0.0</td>\n      <td>0.000000e+00</td>\n      <td>1.367619e+09</td>\n      <td>0.0</td>\n      <td>0</td>\n      <td>4.044755e+04</td>\n      <td>7.685044e+02</td>\n      <td>0.0</td>\n    </tr>\n    <tr>\n      <th>499</th>\n      <td>2064-08-31</td>\n      <td>912.731668</td>\n      <td>2277.084251</td>\n      <td>0.0</td>\n      <td>500</td>\n      <td>684.548751</td>\n      <td>1707.813188</td>\n      <td>3.422744e+04</td>\n      <td>5123.439564</td>\n      <td>3.935088e+04</td>\n      <td>...</td>\n      <td>3.100304e+04</td>\n      <td>0.0</td>\n      <td>0.0</td>\n      <td>0.000000e+00</td>\n      <td>1.367650e+09</td>\n      <td>0.0</td>\n      <td>0</td>\n      <td>3.100304e+04</td>\n      <td>5.843984e+02</td>\n      <td>0.0</td>\n    </tr>\n    <tr>\n      <th>500</th>\n      <td>2064-09-30</td>\n      <td>642.612383</td>\n      <td>1603.190277</td>\n      <td>0.0</td>\n      <td>501</td>\n      <td>481.959287</td>\n      <td>1202.392707</td>\n      <td>2.409796e+04</td>\n      <td>3607.178122</td>\n      <td>2.770514e+04</td>\n      <td>...</td>\n      <td>2.182781e+04</td>\n      <td>0.0</td>\n      <td>0.0</td>\n      <td>0.000000e+00</td>\n      <td>1.367672e+09</td>\n      <td>0.0</td>\n      <td>0</td>\n      <td>2.182781e+04</td>\n      <td>4.081930e+02</td>\n      <td>0.0</td>\n    </tr>\n    <tr>\n      <th>501</th>\n      <td>2064-10-31</td>\n      <td>274.569598</td>\n      <td>684.996619</td>\n      <td>0.0</td>\n      <td>502</td>\n      <td>205.927198</td>\n      <td>513.747465</td>\n      <td>1.029636e+04</td>\n      <td>1541.242394</td>\n      <td>1.183760e+04</td>\n      <td>...</td>\n      <td>9.326389e+03</td>\n      <td>0.0</td>\n      <td>0.0</td>\n      <td>0.000000e+00</td>\n      <td>1.367682e+09</td>\n      <td>0.0</td>\n      <td>0</td>\n      <td>9.326389e+03</td>\n      <td>1.730293e+02</td>\n      <td>0.0</td>\n    </tr>\n  </tbody>\n</table>\n<p>502 rows × 23 columns</p>\n</div>"
     },
     "execution_count": 8,
     "metadata": {},
     "output_type": "execute_result"
    }
   ],
   "source": [
    "final_df = prod_df.groupby(['Date']).sum()\n",
    "final_df = final_df.reset_index()\n",
    "final_df['Date'] = pd.to_datetime(final_df['Date'])\n",
    "final_df = final_df.merge(wellcount_df, on='Date', how='left')\n",
    "final_df['Month'] = final_df.index + 1\n",
    "final_df['Net Oil'] = final_df['Oil'] * nri\n",
    "final_df['Net Gas'] = final_df['Gas'] * nri\n",
    "final_df['Net Oil Revenue'] = final_df['Net Oil'] * oil_price\n",
    "final_df['Net Gas Revenue'] = final_df['Net Gas'] * gas_price\n",
    "final_df['Total Revenue'] = final_df['Net Oil Revenue'] + final_df['Net Gas Revenue']\n",
    "final_df['Total Gross Expense'] = final_df['Oil'] * opex\n",
    "final_df['Total Net Expense'] = final_df['Total Gross Expense'] * wi\n",
    "final_df['Production Taxes'] = (final_df['Net Oil Revenue'] * oil_tax) + (final_df['Net Gas Revenue'] * gas_tax)\n",
    "final_df['Operating Income'] = (final_df['Net Oil Revenue'] + final_df['Net Gas Revenue']) - final_df['Total Net Expense'] - final_df['Production Taxes']\n",
    "final_df['Gross CAPEX'] = final_df['Well Count'] * well_cost\n",
    "final_df['Net CAPEX'] = final_df['Gross CAPEX'] * wi\n",
    "final_df.fillna(0, inplace=True)\n",
    "final_df['Disc NET CAPEX'] = final_df['Net CAPEX']/(1.1 ** (final_df['Month']/12))\n",
    "\n",
    "final_df['Cash on Hand'] = np.nan\n",
    "for i in final_df.index:\n",
    "    if i == 0:\n",
    "        final_df.at[i, 'Cash on Hand'] = initial_cash\n",
    "    else:\n",
    "        final_df.at[i, 'Cash on Hand'] = final_df.at[(i-1), 'Cash on Hand'] - final_df.at[i, 'Gross CAPEX'] + final_df.at[i, 'Operating Income']\n",
    "final_df['Cash on Hand'] = final_df['Cash on Hand'].clip(lower=0)\n",
    "\n",
    "final_df['Debt'] = np.nan\n",
    "for i in final_df.index:\n",
    "    if i == 0:\n",
    "        final_df.at[i, 'Debt'] = initial_debt\n",
    "    else:\n",
    "        if final_df.at[i, 'Cash on Hand'] > 0:\n",
    "            final_df.at[i, 'Debt'] = 0\n",
    "        else:\n",
    "            final_df.at[i, 'Debt'] = final_df.at[(i-1), 'Debt'] + (final_df.at[i, 'Operating Income'] - final_df.at[i, 'Net CAPEX'])\n",
    "\n",
    "final_df['Interest Expense'] = 0\n",
    "for i in final_df.index:\n",
    "    if final_df.at[i, 'Debt'] == 0:\n",
    "        final_df.at[i, 'Interest Expense'] = 0\n",
    "    else:\n",
    "        final_df.at[i, 'Interest Expense'] = (0.1 / 12) * final_df.at[i, 'Debt']\n",
    "\n",
    "final_df['Cash Flow'] = final_df['Operating Income'] - final_df['Net CAPEX'] + final_df['Interest Expense']\n",
    "final_df['Discounted Cash Flow'] = final_df['Cash Flow'] / (1.1 ** (final_df['Month']/12))\n",
    "final_df['Net Debt/EBITAX'] = abs(final_df['Debt'] / (final_df['Total Revenue'] - final_df['Total Net Expense']))\n",
    "\n",
    "final_df"
   ],
   "metadata": {
    "collapsed": false,
    "pycharm": {
     "name": "#%%\n"
    }
   }
  },
  {
   "cell_type": "code",
   "execution_count": 9,
   "outputs": [],
   "source": [
    "final_df.to_excel(r'C:\\Users\\bbell\\OneDrive - CrownQuest Operating\\Desktop\\mcdowell cash statement.xlsx')"
   ],
   "metadata": {
    "collapsed": false,
    "pycharm": {
     "name": "#%%\n"
    }
   }
  },
  {
   "cell_type": "code",
   "execution_count": 10,
   "outputs": [],
   "source": [
    "summary_df = pd.DataFrame({\n",
    "    'Total Cash Flow': final_df['Cash Flow'].sum(),\n",
    "    'Total Discounted Cash Flow': final_df['Discounted Cash Flow'].sum(),\n",
    "    'Max Net Debt/EBITAX': final_df['Net Debt/EBITAX'].max(),\n",
    "    'ROR': (final_df.at[final_df.index.max(), 'Cash on Hand'] - initial_investment) / initial_investment,\n",
    "    'NPV': final_df['Discounted Cash Flow'].sum(),\n",
    "    'DROI': (final_df['Discounted Cash Flow'].sum() + final_df['Disc NET CAPEX'].sum()) / final_df['Disc NET CAPEX'].sum(),\n",
    "}, index=[0])\n"
   ],
   "metadata": {
    "collapsed": false,
    "pycharm": {
     "name": "#%%\n"
    }
   }
  },
  {
   "cell_type": "code",
   "execution_count": 11,
   "outputs": [],
   "source": [
    "ddf = final_df.copy()\n",
    "\n",
    "def irr(y):\n",
    "    return sum(ddf['Cash Flow'] / ((1 + y) ** (ddf['Month']/12)))\n",
    "\n",
    "def goal_seek(_threshold):\n",
    "    lower = 0.1\n",
    "    upper = 0.5\n",
    "    solve = (lower + upper)/2\n",
    "    threshold = irr(solve)\n",
    "    while abs(threshold) >= _threshold:\n",
    "        print(f'Threshold is: {threshold}')\n",
    "        if threshold > 0:\n",
    "            lower = solve\n",
    "            solve = (lower + upper)/2\n",
    "        elif threshold < 0:\n",
    "            upper = solve\n",
    "            solve = (lower + upper)/2\n",
    "        print(f'range is: {lower}  ----  {solve}   ----   {upper}')\n",
    "        threshold = irr(solve)\n",
    "\n",
    "    return solve"
   ],
   "metadata": {
    "collapsed": false,
    "pycharm": {
     "name": "#%%\n"
    }
   }
  },
  {
   "cell_type": "code",
   "execution_count": 12,
   "outputs": [
    {
     "name": "stdout",
     "output_type": "stream",
     "text": [
      "Threshold is: -187772262.33105767\n",
      "range is: 0.1  ----  0.2   ----   0.3\n",
      "Threshold is: -125620810.96730514\n",
      "range is: 0.1  ----  0.15000000000000002   ----   0.2\n",
      "Threshold is: -51881869.95354474\n",
      "range is: 0.1  ----  0.125   ----   0.15000000000000002\n",
      "Threshold is: 6725787.054442684\n",
      "range is: 0.125  ----  0.1375   ----   0.15000000000000002\n",
      "Threshold is: -24973120.344550423\n",
      "range is: 0.125  ----  0.13125   ----   0.1375\n",
      "Threshold is: -9780464.498302205\n",
      "range is: 0.125  ----  0.128125   ----   0.13125\n",
      "Threshold is: -1699543.3909105845\n",
      "range is: 0.125  ----  0.1265625   ----   0.128125\n",
      "Threshold is: 2469018.0739873475\n",
      "range is: 0.1265625  ----  0.12734374999999998   ----   0.128125\n",
      "Threshold is: 373845.39989304973\n",
      "range is: 0.12734374999999998  ----  0.12773437499999998   ----   0.128125\n",
      "Threshold is: -665555.4466132263\n",
      "range is: 0.12734374999999998  ----  0.12753906249999997   ----   0.12773437499999998\n",
      "Threshold is: -146533.69341634403\n",
      "range is: 0.12734374999999998  ----  0.12744140624999997   ----   0.12753906249999997\n",
      "Threshold is: 113485.92773569473\n",
      "range is: 0.12744140624999997  ----  0.12749023437499996   ----   0.12753906249999997\n",
      "Threshold is: -16566.331930337055\n",
      "range is: 0.12744140624999997  ----  0.12746582031249998   ----   0.12749023437499996\n",
      "Threshold is: 48449.18159631496\n",
      "range is: 0.12746582031249998  ----  0.12747802734374997   ----   0.12749023437499996\n",
      "Threshold is: 15938.771261101478\n",
      "range is: 0.12747802734374997  ----  0.12748413085937496   ----   0.12749023437499996\n"
     ]
    },
    {
     "data": {
      "text/plain": "   Total Cash Flow  Total Discounted Cash Flow  Max Net Debt/EBITAX       ROR  \\\n0     1.070860e+09                8.883623e+07             7.156178  4.470726   \n\n            NPV      DROI       IRR  \n0  8.883623e+07  1.087545  0.127484  ",
      "text/html": "<div>\n<style scoped>\n    .dataframe tbody tr th:only-of-type {\n        vertical-align: middle;\n    }\n\n    .dataframe tbody tr th {\n        vertical-align: top;\n    }\n\n    .dataframe thead th {\n        text-align: right;\n    }\n</style>\n<table border=\"1\" class=\"dataframe\">\n  <thead>\n    <tr style=\"text-align: right;\">\n      <th></th>\n      <th>Total Cash Flow</th>\n      <th>Total Discounted Cash Flow</th>\n      <th>Max Net Debt/EBITAX</th>\n      <th>ROR</th>\n      <th>NPV</th>\n      <th>DROI</th>\n      <th>IRR</th>\n    </tr>\n  </thead>\n  <tbody>\n    <tr>\n      <th>0</th>\n      <td>1.070860e+09</td>\n      <td>8.883623e+07</td>\n      <td>7.156178</td>\n      <td>4.470726</td>\n      <td>8.883623e+07</td>\n      <td>1.087545</td>\n      <td>0.127484</td>\n    </tr>\n  </tbody>\n</table>\n</div>"
     },
     "execution_count": 12,
     "metadata": {},
     "output_type": "execute_result"
    }
   ],
   "source": [
    "summary_df['IRR'] = goal_seek(1000)\n",
    "summary_df\n"
   ],
   "metadata": {
    "collapsed": false,
    "pycharm": {
     "name": "#%%\n"
    }
   }
  },
  {
   "cell_type": "code",
   "execution_count": 13,
   "outputs": [],
   "source": [
    "#summary_df.to_excel(r'C:\\Users\\bbell\\OneDrive - CrownQuest Operating\\Desktop\\mcdowell summary.xlsx')\n",
    "\n",
    "\n",
    "\n"
   ],
   "metadata": {
    "collapsed": false,
    "pycharm": {
     "name": "#%%\n"
    }
   }
  }
 ],
 "metadata": {
  "kernelspec": {
   "name": "python3",
   "language": "python",
   "display_name": "Python 3"
  },
  "language_info": {
   "codemirror_mode": {
    "name": "ipython",
    "version": 2
   },
   "file_extension": ".py",
   "mimetype": "text/x-python",
   "name": "python",
   "nbconvert_exporter": "python",
   "pygments_lexer": "ipython2",
   "version": "2.7.6"
  }
 },
 "nbformat": 4,
 "nbformat_minor": 0
}